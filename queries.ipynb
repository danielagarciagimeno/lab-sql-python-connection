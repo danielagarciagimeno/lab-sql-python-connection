{
 "cells": [
  {
   "cell_type": "code",
   "execution_count": 2,
   "id": "9c5c9432-61d0-4251-8f74-3fc124b27069",
   "metadata": {},
   "outputs": [
    {
     "name": "stdout",
     "output_type": "stream",
     "text": [
      "Conexión exitosa\n"
     ]
    }
   ],
   "source": [
    "from sqlalchemy import create_engine\n",
    "import pandas as pd\n",
    "\n",
    "user = 'root'  \n",
    "password = 'password'  \n",
    "host = 'localhost'  \n",
    "database = 'sakila'\n",
    "\n",
    "engine = create_engine(f'mysql+mysqlconnector://{user}:{password}@{host}/{database}')\n",
    "\n",
    "with engine.connect() as connection:\n",
    "    print(\"Conexión exitosa\")"
   ]
  },
  {
   "cell_type": "code",
   "execution_count": 3,
   "id": "38be45de-d5f9-4574-9803-0e7a32558ebb",
   "metadata": {},
   "outputs": [
    {
     "name": "stdout",
     "output_type": "stream",
     "text": [
      "   customer_id  rental_count\n",
      "0            1             2\n",
      "1            2             1\n",
      "2            3             2\n",
      "3            5             3\n",
      "4            6             3\n"
     ]
    }
   ],
   "source": [
    "def rentals_month(engine, month, year):\n",
    "    query = f\"\"\"\n",
    "    SELECT customer_id, COUNT(*) AS rental_count\n",
    "    FROM rental\n",
    "    WHERE MONTH(rental_date) = {month} AND YEAR(rental_date) = {year}\n",
    "    GROUP BY customer_id;\n",
    "    \"\"\"\n",
    "    # Ejecutar la consulta y devolver como DataFrame\n",
    "    return pd.read_sql(query, engine)\n",
    "\n",
    "# Prueba la función\n",
    "df_may = rentals_month(engine, 5, 2005)\n",
    "print(df_may.head())"
   ]
  },
  {
   "cell_type": "code",
   "execution_count": 4,
   "id": "c8f905fd-3fbf-4d32-9e89-666e98b245d0",
   "metadata": {},
   "outputs": [
    {
     "name": "stdout",
     "output_type": "stream",
     "text": [
      "   customer_id  rentals_05_2005\n",
      "0            1                2\n",
      "1            2                1\n",
      "2            3                2\n",
      "3            5                3\n",
      "4            6                3\n"
     ]
    }
   ],
   "source": [
    "def rental_count_month(df, month, year):\n",
    "    column_name = f'rentals_{str(month).zfill(2)}_{year}'\n",
    "    df.rename(columns={'rental_count': column_name}, inplace=True)\n",
    "    return df\n",
    "\n",
    "# Prueba la función\n",
    "df_may = rental_count_month(df_may, 5, 2005)\n",
    "print(df_may.head())"
   ]
  },
  {
   "cell_type": "code",
   "execution_count": 5,
   "id": "0be5c52f-aa39-43f0-b1f5-3dd6e5005bcc",
   "metadata": {},
   "outputs": [
    {
     "name": "stdout",
     "output_type": "stream",
     "text": [
      "   customer_id  rentals_05_2005  rentals_06_2005  difference\n",
      "0            1                2                7          -5\n",
      "1            2                1                1           0\n",
      "2            3                2                4          -2\n",
      "3            5                3                5          -2\n",
      "4            6                3                4          -1\n"
     ]
    }
   ],
   "source": [
    "def compare_rentals(df1, df2):\n",
    "    # Unir DataFrames en el campo 'customer_id'\n",
    "    combined_df = pd.merge(df1, df2, on='customer_id')\n",
    "    # Calcular la diferencia\n",
    "    col_names = combined_df.columns[1:]\n",
    "    combined_df['difference'] = combined_df[col_names[0]] - combined_df[col_names[1]]\n",
    "    return combined_df\n",
    "\n",
    "# Prueba la función\n",
    "df_june = rentals_month(engine, 6, 2005)\n",
    "df_june = rental_count_month(df_june, 6, 2005)\n",
    "result = compare_rentals(df_may, df_june)\n",
    "print(result.head())"
   ]
  },
  {
   "cell_type": "code",
   "execution_count": null,
   "id": "b7ffeaa0-82cc-44be-b860-2ce802a08dc4",
   "metadata": {},
   "outputs": [],
   "source": []
  }
 ],
 "metadata": {
  "kernelspec": {
   "display_name": "Python 3 (ipykernel)",
   "language": "python",
   "name": "python3"
  },
  "language_info": {
   "codemirror_mode": {
    "name": "ipython",
    "version": 3
   },
   "file_extension": ".py",
   "mimetype": "text/x-python",
   "name": "python",
   "nbconvert_exporter": "python",
   "pygments_lexer": "ipython3",
   "version": "3.12.4"
  }
 },
 "nbformat": 4,
 "nbformat_minor": 5
}
